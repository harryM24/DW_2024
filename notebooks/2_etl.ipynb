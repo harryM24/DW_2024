{
 "cells": [
  {
   "cell_type": "markdown",
   "id": "a833ec83f55c7b5d",
   "metadata": {
    "collapsed": false,
    "jupyter": {
     "outputs_hidden": false
    }
   },
   "source": [
    "# ETL demo\n",
    "\n",
    "The core concept of the ETL is to operate on the data. \n",
    "So you need to understand the data, and know the relationships between them.\n",
    "And then using scripts to sort them out inside the database, or trigger next progress.\n",
    "\n",
    "It is a powerful way to get multiple data sources to work together, get the insights or applications we want. \n",
    "\n",
    "We will use SQL Server, which is backed by Microsoft as an example to do an ETL demo. \n",
    "The goal here will be try to load the data from a csv file to the database.\n",
    "(In this way you can learn relational database solutions for different vendors, at the same time, SQL Server and PostgreSQL are the two most popular relational database on the market)\n"
   ]
  },
  {
   "cell_type": "markdown",
   "id": "260ab357e1f42869",
   "metadata": {
    "collapsed": false,
    "jupyter": {
     "outputs_hidden": false
    }
   },
   "source": [
    "## Connect to the SQL Server\n",
    "first, same as the postgresql connection process, you will need to have a driver to help you connect to the database via python.\n",
    "You have two options here\n",
    "\n",
    "- pyodbc\n",
    "- pymssql\n",
    "\n",
    "Either way works, we pick one and continue this"
   ]
  },
  {
   "cell_type": "code",
   "execution_count": 1,
   "id": "6b3201527e785d94",
   "metadata": {
    "ExecuteTime": {
     "end_time": "2024-02-20T07:40:39.639653100Z",
     "start_time": "2024-02-20T07:40:39.629655900Z"
    },
    "collapsed": false,
    "jupyter": {
     "outputs_hidden": false
    }
   },
   "outputs": [],
   "source": [
    "import pymssql"
   ]
  },
  {
   "cell_type": "code",
   "execution_count": 2,
   "id": "4f17a3c62dbada5f",
   "metadata": {
    "ExecuteTime": {
     "end_time": "2024-02-20T07:40:40.224431300Z",
     "start_time": "2024-02-20T07:40:40.223111800Z"
    },
    "collapsed": false,
    "jupyter": {
     "outputs_hidden": false
    }
   },
   "outputs": [],
   "source": [
    "# Define your connection parameters\n",
    "server_name = 'sqlserver'\n",
    "database_name = 'AdventureworksDWDemo'\n",
    "username = 'sa'\n",
    "password = 'YourStrongPassw0rd'"
   ]
  },
  {
   "cell_type": "code",
   "execution_count": 3,
   "id": "cfa07d63be928dd4",
   "metadata": {
    "ExecuteTime": {
     "end_time": "2024-02-20T07:40:40.715197800Z",
     "start_time": "2024-02-20T07:40:40.706202Z"
    },
    "collapsed": false,
    "jupyter": {
     "outputs_hidden": false
    }
   },
   "outputs": [],
   "source": [
    "conn = pymssql.connect(server_name, username, password, database_name)"
   ]
  },
  {
   "cell_type": "code",
   "execution_count": 4,
   "id": "9d86fcf37b757b56",
   "metadata": {
    "ExecuteTime": {
     "end_time": "2024-02-20T07:40:41.180008Z",
     "start_time": "2024-02-20T07:40:41.176009Z"
    },
    "collapsed": false,
    "jupyter": {
     "outputs_hidden": false
    }
   },
   "outputs": [],
   "source": [
    "cursor = conn.cursor()"
   ]
  },
  {
   "cell_type": "code",
   "execution_count": 5,
   "id": "4b82c3334410e3cc",
   "metadata": {
    "ExecuteTime": {
     "end_time": "2024-02-20T07:40:41.592973200Z",
     "start_time": "2024-02-20T07:40:41.548885Z"
    },
    "collapsed": false,
    "jupyter": {
     "outputs_hidden": false
    }
   },
   "outputs": [],
   "source": [
    "script_parts = [\n",
    "    \"USE AdventureworksDWDemo\",\n",
    "    \"CREATE TABLE DimCustomer (CustomerID int PRIMARY KEY IDENTITY, CustomerAltID varchar(50) NOT NULL, CustomerName varchar(256), Gender varchar(20))\",\n",
    "    \"CREATE TABLE DimProduct (ProductKey int PRIMARY KEY IDENTITY, ProductAltKey varchar(10) NOT NULL, ProductName varchar(100), ProductActualCost money, ProductSalesCost money)\",\n",
    "    '''\n",
    "      CREATE TABLE DimStores\n",
    "    (\n",
    "        StoreID int PRIMARY KEY IDENTITY,\n",
    "        StoreAltID varchar(10) NOT NULL,\n",
    "        StoreName varchar(100),\n",
    "        StoreLocation varchar(100),\n",
    "        City varchar(100),\n",
    "        State varchar(100),\n",
    "        Country varchar(100)\n",
    "    )\n",
    "    ''',\n",
    "    '''\n",
    "    CREATE TABLE DimSalesPerson\n",
    "    (\n",
    "        SalesPersonID int PRIMARY KEY IDENTITY,\n",
    "        SalesPersonAltID varchar(10) NOT NULL,\n",
    "        SalesPersonName varchar(100),\n",
    "        StoreID int,\n",
    "        City varchar(100),\n",
    "        State varchar(100),\n",
    "        Country varchar(100)\n",
    "    )\n",
    "    ''',\n",
    "    '''\n",
    "    CREATE TABLE FactProductSales\n",
    "    (\n",
    "        TransactionId bigint PRIMARY KEY IDENTITY,\n",
    "        SalesInvoiceNumber int NOT NULL,\n",
    "        StoreID int NOT NULL,\n",
    "        CustomerID int NOT NULL,\n",
    "        ProductID int NOT NULL,\n",
    "        SalesPersonID int NOT NULL,\n",
    "        Quantity float,\n",
    "        SalesTotalCost money,\n",
    "        ProductActualCost money,\n",
    "        Deviation float\n",
    "    )\n",
    "    ''',\n",
    "    '''\n",
    "    ALTER TABLE FactProductSales ADD CONSTRAINT FK_StoreID FOREIGN KEY (StoreID) REFERENCES DimStores(StoreID)\n",
    "    ''',\n",
    "    '''\n",
    "    ALTER TABLE FactProductSales ADD CONSTRAINT FK_CustomerID FOREIGN KEY (CustomerID) REFERENCES DimCustomer(CustomerID)\n",
    "    ''',\n",
    "    '''\n",
    "    ALTER TABLE FactProductSales ADD CONSTRAINT FK_ProductKey FOREIGN KEY (ProductID) REFERENCES DimProduct(ProductKey)\n",
    "    ''',\n",
    "    '''\n",
    "    ALTER TABLE FactProductSales ADD CONSTRAINT FK_SalesPersonID FOREIGN KEY (SalesPersonID) REFERENCES DimSalesPerson(SalesPersonID)\n",
    "    '''\n",
    "]"
   ]
  },
  {
   "cell_type": "code",
   "execution_count": 6,
   "id": "ec721284ded47a65",
   "metadata": {
    "ExecuteTime": {
     "end_time": "2024-02-20T07:40:42.218961800Z",
     "start_time": "2024-02-20T07:40:42.121834100Z"
    },
    "collapsed": false,
    "jupyter": {
     "outputs_hidden": false
    }
   },
   "outputs": [],
   "source": [
    "for part in script_parts:\n",
    "    try:\n",
    "        cursor.execute(part)\n",
    "        conn.commit()  # Commit changes for DDL statements\n",
    "    except Exception as e:\n",
    "        print(f\"Error executing SQL script: {e}\")\n",
    "        break  # Stop execution on error\n",
    "\n",
    "# Close the connection\n",
    "cursor.close()\n",
    "conn.close()"
   ]
  },
  {
   "cell_type": "markdown",
   "id": "56ac15c24815e261",
   "metadata": {
    "collapsed": false,
    "jupyter": {
     "outputs_hidden": false
    }
   },
   "source": [
    "until now, we are creating the tables and add the contraints, next we will try to dump the data into the tables.\n",
    "\n",
    "There are multiple ways to do so, you can select which way best suits you when you doing projects.\n",
    "\n",
    "- Construct the SQL scripts and execute them as above\n",
    "- Use pandas (which means other people doing the above step for you)\n",
    "\n",
    "We will demo the way using pandas"
   ]
  },
  {
   "cell_type": "code",
   "execution_count": 7,
   "id": "7ebc7e7625589e5a",
   "metadata": {
    "ExecuteTime": {
     "end_time": "2024-02-20T07:40:43.260405300Z",
     "start_time": "2024-02-20T07:40:43.094770200Z"
    },
    "collapsed": false,
    "jupyter": {
     "outputs_hidden": false
    }
   },
   "outputs": [],
   "source": [
    "import pandas as pd"
   ]
  },
  {
   "cell_type": "code",
   "execution_count": 8,
   "id": "6f886298d6e98a89",
   "metadata": {
    "ExecuteTime": {
     "end_time": "2024-02-20T07:40:43.600142700Z",
     "start_time": "2024-02-20T07:40:43.497943100Z"
    },
    "collapsed": false,
    "jupyter": {
     "outputs_hidden": false
    }
   },
   "outputs": [],
   "source": [
    "from sqlalchemy import create_engine"
   ]
  },
  {
   "cell_type": "code",
   "execution_count": 9,
   "id": "981554ad13f59ca9",
   "metadata": {
    "ExecuteTime": {
     "end_time": "2024-02-20T07:40:44.004035Z",
     "start_time": "2024-02-20T07:40:43.995036600Z"
    },
    "collapsed": false,
    "jupyter": {
     "outputs_hidden": false
    }
   },
   "outputs": [],
   "source": [
    "connection_string = f\"mssql+pymssql://{username}:{password}@{server_name}/{database_name}\"\n",
    "engine = create_engine(connection_string)"
   ]
  },
  {
   "cell_type": "code",
   "execution_count": 18,
   "id": "374258205a0ad84",
   "metadata": {
    "ExecuteTime": {
     "end_time": "2024-02-20T07:40:44.403094800Z",
     "start_time": "2024-02-20T07:40:44.402093700Z"
    },
    "collapsed": false,
    "jupyter": {
     "outputs_hidden": false
    }
   },
   "outputs": [],
   "source": [
    "from pathlib import Path\n",
    "# data path is current path's parent and then AdventureWorkDWDemo\n",
    "script_path = Path.cwd().parent\n",
    "data_path = script_path / \"data\" / \"AdventureWorkDWDemo\"\n",
    "\n",
    "dim_customer_csv = data_path / \"DimCustomer.csv\""
   ]
  },
  {
   "cell_type": "code",
   "execution_count": 50,
   "id": "ceff9e47-3a04-4e35-b8e4-e31a836f8cbf",
   "metadata": {
    "ExecuteTime": {
     "end_time": "2024-02-20T07:40:44.403094800Z",
     "start_time": "2024-02-20T07:40:44.402093700Z"
    },
    "collapsed": false,
    "jupyter": {
     "outputs_hidden": false
    }
   },
   "outputs": [],
   "source": [
    "dim_fact_csv = data_path / \"FactProductSales.csv\""
   ]
  },
  {
   "cell_type": "code",
   "execution_count": 51,
   "id": "76083013c4733494",
   "metadata": {
    "ExecuteTime": {
     "end_time": "2024-02-20T07:41:08.376751100Z",
     "start_time": "2024-02-20T07:41:08.373688900Z"
    },
    "collapsed": false,
    "jupyter": {
     "outputs_hidden": false
    }
   },
   "outputs": [],
   "source": [
    "fact_df = pd.read_csv(dim_fact_csv, header=None)"
   ]
  },
  {
   "cell_type": "code",
   "execution_count": 61,
   "id": "1de621ac795352c6",
   "metadata": {
    "ExecuteTime": {
     "end_time": "2024-02-20T07:41:08.924528300Z",
     "start_time": "2024-02-20T07:41:08.895528400Z"
    },
    "collapsed": false,
    "jupyter": {
     "outputs_hidden": false
    }
   },
   "outputs": [
    {
     "data": {
      "text/html": [
       "<div>\n",
       "<style scoped>\n",
       "    .dataframe tbody tr th:only-of-type {\n",
       "        vertical-align: middle;\n",
       "    }\n",
       "\n",
       "    .dataframe tbody tr th {\n",
       "        vertical-align: top;\n",
       "    }\n",
       "\n",
       "    .dataframe thead th {\n",
       "        text-align: right;\n",
       "    }\n",
       "</style>\n",
       "<table border=\"1\" class=\"dataframe\">\n",
       "  <thead>\n",
       "    <tr style=\"text-align: right;\">\n",
       "      <th></th>\n",
       "      <th>SalesInvoiceNumber</th>\n",
       "      <th>StoreID</th>\n",
       "      <th>CustomerID</th>\n",
       "      <th>ProductID</th>\n",
       "      <th>SalesPersonID</th>\n",
       "      <th>Quantity</th>\n",
       "      <th>SalesTotalCost</th>\n",
       "      <th>ProductActualCost</th>\n",
       "      <th>Deviation</th>\n",
       "    </tr>\n",
       "  </thead>\n",
       "  <tbody>\n",
       "    <tr>\n",
       "      <th>1</th>\n",
       "      <td>1</td>\n",
       "      <td>1</td>\n",
       "      <td>1</td>\n",
       "      <td>2</td>\n",
       "      <td>1</td>\n",
       "      <td>1</td>\n",
       "      <td>22.5</td>\n",
       "      <td>24.0</td>\n",
       "      <td>1.5</td>\n",
       "    </tr>\n",
       "    <tr>\n",
       "      <th>2</th>\n",
       "      <td>1</td>\n",
       "      <td>1</td>\n",
       "      <td>1</td>\n",
       "      <td>3</td>\n",
       "      <td>1</td>\n",
       "      <td>1</td>\n",
       "      <td>42.0</td>\n",
       "      <td>43.5</td>\n",
       "      <td>1.5</td>\n",
       "    </tr>\n",
       "    <tr>\n",
       "      <th>3</th>\n",
       "      <td>2</td>\n",
       "      <td>1</td>\n",
       "      <td>2</td>\n",
       "      <td>3</td>\n",
       "      <td>1</td>\n",
       "      <td>1</td>\n",
       "      <td>42.0</td>\n",
       "      <td>43.5</td>\n",
       "      <td>1.5</td>\n",
       "    </tr>\n",
       "    <tr>\n",
       "      <th>4</th>\n",
       "      <td>2</td>\n",
       "      <td>1</td>\n",
       "      <td>2</td>\n",
       "      <td>4</td>\n",
       "      <td>1</td>\n",
       "      <td>3</td>\n",
       "      <td>54.0</td>\n",
       "      <td>60.0</td>\n",
       "      <td>6.0</td>\n",
       "    </tr>\n",
       "  </tbody>\n",
       "</table>\n",
       "</div>"
      ],
      "text/plain": [
       "   SalesInvoiceNumber  StoreID  CustomerID  ProductID  SalesPersonID  \\\n",
       "1                   1        1           1          2              1   \n",
       "2                   1        1           1          3              1   \n",
       "3                   2        1           2          3              1   \n",
       "4                   2        1           2          4              1   \n",
       "\n",
       "   Quantity  SalesTotalCost  ProductActualCost  Deviation  \n",
       "1         1            22.5               24.0        1.5  \n",
       "2         1            42.0               43.5        1.5  \n",
       "3         1            42.0               43.5        1.5  \n",
       "4         3            54.0               60.0        6.0  "
      ]
     },
     "execution_count": 61,
     "metadata": {},
     "output_type": "execute_result"
    }
   ],
   "source": [
    "fact_df.iloc[1:5,:]"
   ]
  },
  {
   "cell_type": "code",
   "execution_count": 53,
   "id": "43913ce6fd18e6ae",
   "metadata": {
    "ExecuteTime": {
     "end_time": "2024-02-20T07:41:51.049600800Z",
     "start_time": "2024-02-20T07:41:51.046601100Z"
    },
    "collapsed": false,
    "jupyter": {
     "outputs_hidden": false
    }
   },
   "outputs": [],
   "source": [
    "fact_df.columns = [\"SalesInvoiceNumber\", \"StoreID\", \"CustomerID\",\"ProductID\",\"SalesPersonID\",\"Quantity\",\"SalesTotalCost\",\"ProductActualCost\",\"Deviation\"]"
   ]
  },
  {
   "cell_type": "code",
   "execution_count": 13,
   "id": "b9c313ff-949f-40be-9820-94f0dc320640",
   "metadata": {
    "ExecuteTime": {
     "end_time": "2024-02-20T07:41:51.049600800Z",
     "start_time": "2024-02-20T07:41:51.046601100Z"
    },
    "collapsed": false,
    "jupyter": {
     "outputs_hidden": false
    }
   },
   "outputs": [],
   "source": [
    "CREATE TABLE FactProductSales\n",
    "    (\n",
    "        TransactionId bigint PRIMARY KEY IDENTITY,\n",
    "        SalesInvoiceNumber int NOT NULL,\n",
    "        StoreID int NOT NULL,\n",
    "        CustomerID int NOT NULL,\n",
    "        ProductID int NOT NULL,\n",
    "        SalesPersonID int NOT NULL,\n",
    "        Quantity float,\n",
    "        SalesTotalCost money,\n",
    "        ProductActualCost money,\n",
    "        Deviation float\n",
    "    )"
   ]
  },
  {
   "cell_type": "code",
   "execution_count": 62,
   "id": "9cee1970c06a6860",
   "metadata": {
    "ExecuteTime": {
     "end_time": "2024-02-20T07:41:53.028663Z",
     "start_time": "2024-02-20T07:41:53.007156200Z"
    },
    "collapsed": false,
    "jupyter": {
     "outputs_hidden": false
    }
   },
   "outputs": [
    {
     "data": {
      "text/plain": [
       "25"
      ]
     },
     "execution_count": 62,
     "metadata": {},
     "output_type": "execute_result"
    }
   ],
   "source": [
    "fact_df.to_sql(\"FactProductSales\", con=engine, if_exists=\"append\", index=False)"
   ]
  },
  {
   "cell_type": "code",
   "execution_count": null,
   "id": "d5feddbf-b611-4a42-9f60-10754ea7cc96",
   "metadata": {},
   "outputs": [],
   "source": []
  },
  {
   "cell_type": "code",
   "execution_count": null,
   "id": "e5edb3d0-91bb-4412-b95e-b3a40717de44",
   "metadata": {},
   "outputs": [],
   "source": []
  },
  {
   "cell_type": "code",
   "execution_count": 15,
   "id": "f785342f5b5d46c5",
   "metadata": {
    "ExecuteTime": {
     "end_time": "2024-02-20T07:42:04.226476800Z",
     "start_time": "2024-02-20T07:42:04.219967900Z"
    },
    "collapsed": false,
    "jupyter": {
     "outputs_hidden": false
    }
   },
   "outputs": [],
   "source": [
    "# confirm it via run query "
   ]
  },
  {
   "cell_type": "code",
   "execution_count": 63,
   "id": "db0a7e96ed7d2a10",
   "metadata": {
    "ExecuteTime": {
     "end_time": "2024-02-20T07:43:58.001321900Z",
     "start_time": "2024-02-20T07:43:57.951240400Z"
    },
    "collapsed": false,
    "jupyter": {
     "outputs_hidden": false
    }
   },
   "outputs": [
    {
     "name": "stdout",
     "output_type": "stream",
     "text": [
      "(1, 1, 1, 1, 1, 1, 2.0, Decimal('11.0000'), Decimal('13.0000'), 2.0)\n",
      "(2, 1, 1, 1, 2, 1, 1.0, Decimal('22.5000'), Decimal('24.0000'), 1.5)\n",
      "(3, 1, 1, 1, 3, 1, 1.0, Decimal('42.0000'), Decimal('43.5000'), 1.5)\n",
      "(4, 2, 1, 2, 3, 1, 1.0, Decimal('42.0000'), Decimal('43.5000'), 1.5)\n",
      "(5, 2, 1, 2, 4, 1, 3.0, Decimal('54.0000'), Decimal('60.0000'), 6.0)\n",
      "(6, 3, 1, 3, 2, 2, 2.0, Decimal('11.0000'), Decimal('13.0000'), 2.0)\n",
      "(7, 3, 1, 3, 3, 2, 1.0, Decimal('42.0000'), Decimal('43.5000'), 1.5)\n",
      "(8, 3, 1, 3, 4, 2, 3.0, Decimal('54.0000'), Decimal('60.0000'), 6.0)\n",
      "(9, 3, 1, 3, 5, 2, 1.0, Decimal('135.0000'), Decimal('139.0000'), 4.0)\n",
      "(10, 4, 1, 1, 1, 1, 2.0, Decimal('11.0000'), Decimal('13.0000'), 2.0)\n",
      "(11, 4, 1, 1, 2, 1, 1.0, Decimal('22.5000'), Decimal('24.0000'), 1.5)\n",
      "(12, 5, 1, 2, 3, 1, 1.0, Decimal('42.0000'), Decimal('43.5000'), 1.5)\n",
      "(13, 5, 1, 2, 4, 1, 3.0, Decimal('54.0000'), Decimal('60.0000'), 6.0)\n",
      "(14, 6, 1, 3, 2, 2, 2.0, Decimal('11.0000'), Decimal('13.0000'), 2.0)\n",
      "(15, 6, 1, 3, 5, 2, 1.0, Decimal('135.0000'), Decimal('139.0000'), 4.0)\n",
      "(16, 7, 2, 1, 4, 3, 3.0, Decimal('54.0000'), Decimal('60.0000'), 6.0)\n",
      "(17, 7, 2, 1, 5, 3, 1.0, Decimal('135.0000'), Decimal('139.0000'), 4.0)\n",
      "(18, 8, 1, 1, 3, 1, 2.0, Decimal('84.0000'), Decimal('87.0000'), 3.0)\n",
      "(19, 8, 1, 1, 4, 1, 3.0, Decimal('54.0000'), Decimal('60.0000'), 3.0)\n",
      "(20, 9, 1, 2, 1, 1, 1.0, Decimal('5.5000'), Decimal('6.5000'), 1.0)\n",
      "(21, 9, 1, 2, 2, 1, 1.0, Decimal('22.5000'), Decimal('24.0000'), 1.5)\n",
      "(22, 10, 1, 3, 1, 2, 2.0, Decimal('11.0000'), Decimal('13.0000'), 2.0)\n",
      "(23, 10, 1, 3, 4, 2, 3.0, Decimal('54.0000'), Decimal('60.0000'), 6.0)\n",
      "(24, 11, 2, 1, 2, 3, 1.0, Decimal('5.5000'), Decimal('6.5000'), 1.0)\n",
      "(25, 11, 2, 1, 3, 3, 1.0, Decimal('42.0000'), Decimal('43.5000'), 1.5)\n"
     ]
    }
   ],
   "source": [
    "conn = pymssql.connect(server_name, username, password, database_name)\n",
    "cursor = conn.cursor()\n",
    "\n",
    "cursor.execute(\"SELECT * FROM FactProductSales\")\n",
    "\n",
    "# Fetch all rows\n",
    "rows = cursor.fetchall()\n",
    "\n",
    "if rows:\n",
    "    # Print each row\n",
    "    for row in rows:\n",
    "        print(row)"
   ]
  },
  {
   "cell_type": "markdown",
   "id": "d4a034db711ff268",
   "metadata": {
    "collapsed": false,
    "jupyter": {
     "outputs_hidden": false
    }
   },
   "source": [
    "You can do the rest for the csv files under the AdventureWorkDWDemo folder, and then use this db as the db for the cube creation."
   ]
  }
 ],
 "metadata": {
  "kernelspec": {
   "display_name": "Python 3 (ipykernel)",
   "language": "python",
   "name": "python3"
  },
  "language_info": {
   "codemirror_mode": {
    "name": "ipython",
    "version": 3
   },
   "file_extension": ".py",
   "mimetype": "text/x-python",
   "name": "python",
   "nbconvert_exporter": "python",
   "pygments_lexer": "ipython3",
   "version": "3.11.6"
  }
 },
 "nbformat": 4,
 "nbformat_minor": 5
}
